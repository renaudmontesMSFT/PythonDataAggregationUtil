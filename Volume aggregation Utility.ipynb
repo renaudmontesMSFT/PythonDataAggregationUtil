{
 "cells": [
  {
   "cell_type": "code",
   "execution_count": 8,
   "metadata": {},
   "outputs": [],
   "source": [
    "## This script is to calculate percentages of Volume per Service Task Type (STT) for each Service Type (ST), ie. we are aggregating at Service Type level, this is to allow business stakeholders to work at a higher level of granularity (ST instead of STT) to save them time.\n",
    "# Consumes two files but also produces the file for #2: \n",
    "# 1. The file with the individual volume per Service Task Type per Service Type\n",
    "# 2. The updated file with aggregated volume at Service Type level (not at Service Task Type level ) coming from stakeholders, which this notebook also produces.   \n",
    "# Once stakholder returns the updated file, we will use it to calculate the updated individual volume based on the individual percentages per each Service Task Type according to this logic:\n",
    "#   2.1) If we had volume for a given service task type (STT), then calculate the percentage of this STT for the ST they belong to and refer to the new volume for the group, else, \n",
    "#   2.2) If we have zeros in volume at STT level, then use the general updated volume at the ST level and distribute evenly (prorate) for each STT in that ST group.\n",
    "\n",
    "## import libraries\n",
    "import pandas as pd\n",
    "import numpy as np\n",
    "\n"
   ]
  },
  {
   "cell_type": "code",
   "execution_count": null,
   "metadata": {},
   "outputs": [],
   "source": [
    " \n",
    "# Load csv file with all the data that has all the combinations for the Fiscal Year \n",
    "# make first row as header\n",
    "df = pd.read_csv('DetailedForecast.csv', header=0)\n",
    "\n",
    "## print headers\n",
    "print(df.columns)\n",
    "\n",
    "# Convert Volume column to numeric\n",
    "df['Volume'] = pd.to_numeric(df['Volume'], errors='coerce')\n"
   ]
  },
  {
   "cell_type": "code",
   "execution_count": 15,
   "metadata": {},
   "outputs": [],
   "source": [
    "# Copy dataframe, to do aggregation up to the Service Type level, this will be for the stakeholder to update the volume at this level\n",
    "dfagg = df.copy()\n",
    "# Calculate the Volume for each Fiscal Year, Month, Country, ServiceLine, and ServiceType\n",
    "\n",
    "dfagg = df.groupby(['Fiscal Year', 'Month', 'Country', 'ServiceLine', 'ServiceType']).agg({'Volume': 'sum'}).reset_index()\n",
    "\n",
    "# save the aggregated data to a csv file\n",
    "dfagg.to_csv('Forecast_Aggregated.csv', index=False)\n",
    "\n",
    "#Send this file to stakholder to have them work on the Volume at the Service Type level\n",
    "\n",
    "\n",
    "\n"
   ]
  },
  {
   "cell_type": "code",
   "execution_count": null,
   "metadata": {},
   "outputs": [],
   "source": [
    "## Group by Fiscal Year, Month, Country, Service Line, and ServiceType and calculate the Percentage that each ServiceTaskType contributes to each ServiceType group based on the Volume\n",
    "df['Percentage'] = df['Volume'] / df.groupby(['Fiscal Year', 'Month', 'Country', 'ServiceLine', 'ServiceType'])['Volume'].transform('sum') * 100\n",
    "\n",
    "## print the result\n",
    "print(df)\n",
    "\n",
    "\n"
   ]
  },
  {
   "cell_type": "code",
   "execution_count": 6,
   "metadata": {},
   "outputs": [],
   "source": [
    "## Intermediate step for debugging, save back as csv\n",
    "df.to_csv('Forecast with Percentages.csv', index=False)\n"
   ]
  },
  {
   "cell_type": "code",
   "execution_count": null,
   "metadata": {},
   "outputs": [],
   "source": [
    "# Once stakeholder reviews and updates the aggregated Volume at ServiceType level, we will use this file to calculate the updated Volume at ServiceTaskType level based on the percentages calculated above \n",
    "\n",
    "# Open the updated file\n",
    "dfagg = pd.read_csv('Forecast_Aggregated.csv', header=0)\n",
    "\n",
    "# print headers\n",
    "print(dfagg.columns)\n",
    "\n"
   ]
  },
  {
   "cell_type": "code",
   "execution_count": null,
   "metadata": {},
   "outputs": [],
   "source": [
    "# view first rows\n",
    "dfagg.head()\n"
   ]
  },
  {
   "cell_type": "code",
   "execution_count": null,
   "metadata": {},
   "outputs": [],
   "source": [
    "# This is the most important part of the code! \n",
    "#Check for zero, null, or NaN values in the 'Percentage' column of 'df'\n",
    "if df['Percentage'].isnull().any() or (df['Percentage'] == 0).any() or (df['Percentage'] == np.nan).any():\n",
    "    df['Percentage'] = df['Percentage'].replace(np.nan, 0)  # Replace NaN values with 0\n",
    "    df['Percentage'] = df['Percentage'].replace(np.inf, 0)  # Replace inf values with 0\n",
    "    df['Percentage'] = df['Percentage'].fillna(0)  # Replace null values with 0\n",
    "    print(\"Warning: The 'Percentage' column in the 'df' DataFrame contains zero, null, or NaN values. These values will be treated as zero in the proration calculation.\")\n",
    "\n",
    "# Merge df and dfagg on the specified columns\n",
    "merged_df = pd.merge(df, dfagg, on=['Fiscal Year', 'Month', 'Country', 'Program', 'ServiceLine', 'ServiceType'], suffixes=('_df', '_dfagg'))\n",
    "\n",
    "#  If we have zeros in volume at STT level, then use the general updated volume at the ST level and distribute evenly (prorate) for each STT in that ST group.\n",
    "grouped = merged_df.groupby(['Fiscal Year', 'Month', 'Country', 'ServiceLine', 'ServiceType'])['Volume_df']\n",
    "merged_df['Prorated Volume'] = np.where(\n",
    "    merged_df['Volume_df'] == 0,\n",
    "    merged_df['Volume_dfagg'] / grouped.transform('size'), # If the original Volume is 0, then the prorated Volume is the aggregated Volume divided by the number of rows in the group\n",
    "    # else,if we had volume for a given service task type (STT), then calculate the percentage of this STT for the ST they belong to and refer to the Volume for the group; in other words, the diistributed Volume is the aggregated Volume of the group multiplied by the percentage of the original Volume for each member in the subgroup\n",
    "    df.apply(lambda row: dfagg.loc[(dfagg['Fiscal Year'] == row['Fiscal Year']) & (dfagg['Month'] == row['Month']) & (dfagg['Region'] == row['Region']) & (dfagg['Area'] == row['Area'])  & (dfagg['ServiceLine'] == row['ServiceLine']) & (dfagg['ServiceType'] == row['ServiceType']), 'Volume'].values[0] * row['Percentage'] / 100, axis=1)\n",
    "    \n",
    ")\n",
    "\n",
    "final_df = merged_df\n",
    "\n",
    "print(final_df)\n",
    "\n",
    "# save to csv\n",
    "final_df.to_csv('DetailedForecastUpdated.csv', index=False)\n"
   ]
  }
 ],
 "metadata": {
  "kernelspec": {
   "display_name": "Python 3",
   "language": "python",
   "name": "python3"
  },
  "language_info": {
   "codemirror_mode": {
    "name": "ipython",
    "version": 3
   },
   "file_extension": ".py",
   "mimetype": "text/x-python",
   "name": "python",
   "nbconvert_exporter": "python",
   "pygments_lexer": "ipython3",
   "version": "3.11.8"
  }
 },
 "nbformat": 4,
 "nbformat_minor": 2
}
